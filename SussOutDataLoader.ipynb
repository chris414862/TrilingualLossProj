{
 "cells": [
  {
   "cell_type": "code",
   "execution_count": 1,
   "id": "09df6c44",
   "metadata": {},
   "outputs": [],
   "source": [
    "import IPython.display as ipd\n",
    "import json\n",
    "import matplotlib.pyplot as plt\n",
    "import numpy as np\n",
    "import time\n",
    "import torch\n",
    "import os\n",
    "\n",
    "from dataloaders import ImageCaptionDataset, ImageCaptionDatasetHDF5\n",
    "from run_unit_analysis import (load_dataset, get_word_ali, get_code_ali,\n",
    "                               prepare_data, STOP_WORDS, comp_code_to_wordprec,\n",
    "                               comp_word_to_coderecall)\n",
    "from run_utils import load_audio_model_and_state\n",
    "from steps.plot import (load_raw_spectrogram, plot_spec_and_alis,\n",
    "                        plot_precision_recall, plot_num_words_above_f1_threshold)\n",
    "from steps.unit_analysis import (print_code_to_word_prec, print_word_by_code_recall,\n",
    "                                 comp_code_word_f1, print_code_stats_by_f1, \n",
    "                                 print_word_stats_by_f1, count_high_f1_words,\n",
    "                                 compute_topk_avg_f1)\n",
    "\n",
    "device = torch.device(\"cuda\" if torch.cuda.is_available() else \"cpu\")"
   ]
  },
  {
   "cell_type": "code",
   "execution_count": 2,
   "id": "cb142a84",
   "metadata": {},
   "outputs": [
    {
     "data": {
      "text/plain": [
       "['get-pip.py', 'data', 'venv_thesis', 'ResDAVEnet-VQ']"
      ]
     },
     "execution_count": 2,
     "metadata": {},
     "output_type": "execute_result"
    }
   ],
   "source": [
    "# load data\n",
    "# json_path = './filelist/train_original_with_alignments.json'\n",
    "# hdf5_path = '/data/sls/temp/wnhsu/data/mm/places_hdf5/PlacesEnglish400kTrain.json'\n",
    "# json_path = \"/home/harwath/data/PlacesAudio_400k_distro/metadata/\"\n",
    "# hdf5_path = '/home/harwath/data/PlacesAudio_400k_distro/metadata/PlacesEnglish400kTrain.json'\n",
    "MYTHESISHOME = \"/home/crabtree/theses/ResDAVEnet-VQ/\"\n",
    "MYDATAHOME = os.path.join(MYTHESISHOME, \"data/TrilingualData\")\n",
    "MYHDF5DATAHOME = os.path.join(MYDATAHOME, \"hdf5/\")\n",
    "json_path = os.path.join(MYDATAHOME,\"/metadata/\")\n",
    "hdf5_path = os.path.join(json_path, 'PlacesEnglish400kTrain.json')\n",
    "\n",
    "# This is an alternative to ImageCaptionDatasetHDF5, which computes audio\n",
    "# features on the fly. It might be much slower due to intense data I/O.\n",
    "# dataset = ImageCaptionDataset(json_path)\n",
    "\n",
    "dataset = ImageCaptionDatasetHDF5(hdf5_path)\n",
    "with open(json_path) as f:\n",
    "    json_data_basis = json.load(f)\n",
    "    json_data = json_data_basis['data']\n",
    "    audio_base = json_data_basis.get('audio_base_path', '')\n",
    "    image_base = json_data_basis.get('image_base_path', '')"
   ]
  },
  {
   "cell_type": "markdown",
   "id": "4f5cc324",
   "metadata": {},
   "source": [
    "### Get Image Dataset"
   ]
  },
  {
   "cell_type": "code",
   "execution_count": 3,
   "id": "0d70ca68",
   "metadata": {},
   "outputs": [
    {
     "data": {
      "text/plain": [
       "[{'uttid': 'A239X6YVFBE51-GSUN_D1B978F9E68240510A63EFD734FB650E',\n",
       "  'speaker': 'A239X6YVFBE51',\n",
       "  'asr_text': '3 happy travelers are posing for picture inside of a airport',\n",
       "  'wav': 'wavs/1/utterance_333455.wav',\n",
       "  'image': 'a/airport_terminal/gsun_d1b978f9e68240510a63efd734fb650e.jpg'},\n",
       " {'uttid': 'A2LVPGEPC1EUOW-GSUN_B2C654D7066748E3274693F8A870C799',\n",
       "  'speaker': 'A2LVPGEPC1EUOW',\n",
       "  'asr_text': 'picture is a bridge runs along a body of water to the right is a tree with no leaves on a hill',\n",
       "  'wav': 'wavs/2/utterance_232878.wav',\n",
       "  'image': 'v/viaduct/gsun_b2c654d7066748e3274693f8a870c799.jpg'}]"
      ]
     },
     "execution_count": 3,
     "metadata": {},
     "output_type": "execute_result"
    }
   ],
   "source": [
    "import json\n",
    "# in the metadata folder there is train.json and valid.json (and other but I don't know much about them yet)\n",
    "image_json_path = \"/home/harwath/data/PlacesAudio_400k_distro/metadata/train.json\"\n",
    "with open(image_json_path) as f:\n",
    "    data = json.load(f)\n",
    "# image_dataset = ImageCaptionDatasetHDF5(image_json_path)\n",
    "data['data'][:2]"
   ]
  },
  {
   "cell_type": "code",
   "execution_count": 4,
   "id": "3cfbad2e",
   "metadata": {},
   "outputs": [],
   "source": [
    "import h5py\n",
    "\n",
    "\n",
    "\n",
    "# image_dataset = ImageCaptionDatasetHDF5(image_json_path)"
   ]
  }
 ],
 "metadata": {
  "kernelspec": {
   "display_name": "venv_thesis",
   "language": "python",
   "name": "venv_thesis"
  },
  "language_info": {
   "codemirror_mode": {
    "name": "ipython",
    "version": 3
   },
   "file_extension": ".py",
   "mimetype": "text/x-python",
   "name": "python",
   "nbconvert_exporter": "python",
   "pygments_lexer": "ipython3",
   "version": "3.6.9"
  }
 },
 "nbformat": 4,
 "nbformat_minor": 5
}
